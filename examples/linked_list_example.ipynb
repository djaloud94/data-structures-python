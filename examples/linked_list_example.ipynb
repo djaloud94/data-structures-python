{
 "cells": [
  {
   "cell_type": "code",
   "execution_count": 8,
   "metadata": {},
   "outputs": [],
   "source": [
    "import sys\n",
    "import os\n",
    "\n",
    "sys.path.append(os.path.abspath(\"..\"))\n",
    "from data_structures.linked_list import LinkedList"
   ]
  },
  {
   "cell_type": "code",
   "execution_count": 10,
   "metadata": {},
   "outputs": [
    {
     "name": "stdout",
     "output_type": "stream",
     "text": [
      "5 -> 7 -> 10 -> None\n",
      "5 -> 10 -> None\n",
      "Longueur : 2\n",
      "Accès index 1 : 10\n",
      "Recherche 10 : True\n"
     ]
    }
   ],
   "source": [
    "ll = LinkedList()\n",
    "    \n",
    "ll.insertAtEnd(10)\n",
    "ll.insertAtBeginning(5)\n",
    "ll.insertAfter(7, 0)  # Insère 7 après l'index 0\n",
    "\n",
    "ll.display()  # 5 -> 7 -> 10 -> None\n",
    "\n",
    "ll.deleteItem(7)\n",
    "ll.display()  # 5 -> 10 -> None\n",
    "\n",
    "print(\"Longueur :\", ll.get_length())  # 2\n",
    "print(\"Accès index 1 :\", ll.access(1))  # 10\n",
    "print(\"Recherche 10 :\", ll.search(10))  # True"
   ]
  }
 ],
 "metadata": {
  "kernelspec": {
   "display_name": "Python 3",
   "language": "python",
   "name": "python3"
  },
  "language_info": {
   "codemirror_mode": {
    "name": "ipython",
    "version": 3
   },
   "file_extension": ".py",
   "mimetype": "text/x-python",
   "name": "python",
   "nbconvert_exporter": "python",
   "pygments_lexer": "ipython3",
   "version": "3.13.2"
  }
 },
 "nbformat": 4,
 "nbformat_minor": 2
}
