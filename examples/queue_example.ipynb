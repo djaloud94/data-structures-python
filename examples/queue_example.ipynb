{
 "cells": [
  {
   "cell_type": "code",
   "execution_count": 3,
   "metadata": {},
   "outputs": [],
   "source": [
    "import sys\n",
    "import os\n",
    "\n",
    "sys.path.append(os.path.abspath(\"..\"))\n",
    "from data_structures.queue import Queue"
   ]
  },
  {
   "cell_type": "code",
   "execution_count": 4,
   "metadata": {},
   "outputs": [
    {
     "name": "stdout",
     "output_type": "stream",
     "text": [
      "Début -> 10 -> 20 -> 30 <- Fin\n",
      "Premier élément : 10\n",
      "Début -> 20 -> 30 <- Fin\n",
      "Dernier élément : 30\n",
      "La file est vide ? False\n"
     ]
    }
   ],
   "source": [
    "ma_file = Queue()\n",
    "\n",
    "ma_file.enqueue(10)\n",
    "ma_file.enqueue(20)\n",
    "ma_file.enqueue(30)\n",
    "\n",
    "ma_file.display_queue()  # Début -> 10 -> 20 -> 30 <- Fin\n",
    "print(\"Premier élément :\", ma_file.peek())  # 10\n",
    "\n",
    "ma_file.dequeue()\n",
    "ma_file.display_queue()  # Début -> 20 -> 30 <- Fin\n",
    "\n",
    "print(\"Dernier élément :\", ma_file.rear())  # 30\n",
    "print(\"La file est vide ?\", ma_file.is_empty())  # False"
   ]
  }
 ],
 "metadata": {
  "kernelspec": {
   "display_name": "Python 3",
   "language": "python",
   "name": "python3"
  },
  "language_info": {
   "codemirror_mode": {
    "name": "ipython",
    "version": 3
   },
   "file_extension": ".py",
   "mimetype": "text/x-python",
   "name": "python",
   "nbconvert_exporter": "python",
   "pygments_lexer": "ipython3",
   "version": "3.13.2"
  }
 },
 "nbformat": 4,
 "nbformat_minor": 2
}
