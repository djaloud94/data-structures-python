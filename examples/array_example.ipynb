{
 "cells": [
  {
   "cell_type": "code",
   "execution_count": 1,
   "metadata": {},
   "outputs": [],
   "source": [
    "import sys\n",
    "import os\n",
    "\n",
    "sys.path.append(os.path.abspath(\"..\"))\n",
    "from data_structures.array import Array"
   ]
  },
  {
   "cell_type": "code",
   "execution_count": 2,
   "metadata": {},
   "outputs": [
    {
     "name": "stdout",
     "output_type": "stream",
     "text": [
      "[5, 7, 6]\n",
      "[10, 7, 6]\n",
      "[10, 20, 6]\n",
      "[10, 20, 30]\n"
     ]
    }
   ],
   "source": [
    "mon_tableau = Array(3)\n",
    "\n",
    "mon_tableau.push(5)\n",
    "mon_tableau.push(7)\n",
    "mon_tableau.push(6)\n",
    "mon_tableau.__str__()\n",
    "    \n",
    "mon_tableau.set(0, 10)\n",
    "mon_tableau.set(1, 20)\n",
    "mon_tableau.set(2, 30)\n",
    "mon_tableau.__str__()\n",
    "    \n",
    "print(mon_tableau)  # Affiche [10, 20, 30]"
   ]
  }
 ],
 "metadata": {
  "kernelspec": {
   "display_name": "Python 3",
   "language": "python",
   "name": "python3"
  },
  "language_info": {
   "codemirror_mode": {
    "name": "ipython",
    "version": 3
   },
   "file_extension": ".py",
   "mimetype": "text/x-python",
   "name": "python",
   "nbconvert_exporter": "python",
   "pygments_lexer": "ipython3",
   "version": "3.13.2"
  }
 },
 "nbformat": 4,
 "nbformat_minor": 2
}
