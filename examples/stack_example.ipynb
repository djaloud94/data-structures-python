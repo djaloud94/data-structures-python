{
 "cells": [
  {
   "cell_type": "code",
   "execution_count": 3,
   "metadata": {},
   "outputs": [],
   "source": [
    "import sys\n",
    "import os\n",
    "\n",
    "sys.path.append(os.path.abspath(\"..\"))\n",
    "from data_structures.stack import Stack"
   ]
  },
  {
   "cell_type": "code",
   "execution_count": 4,
   "metadata": {},
   "outputs": [
    {
     "name": "stdout",
     "output_type": "stream",
     "text": [
      "Élément enlevé : 30\n",
      "Élément au sommet : 20\n",
      "La pile est vide ? False\n",
      "Élément enlevé : 20\n",
      "Élément enlevé : 10\n",
      "La pile est vide !\n",
      "Élément enlevé : None\n"
     ]
    }
   ],
   "source": [
    "ma_pile = Stack()\n",
    "    \n",
    "ma_pile.push(10)\n",
    "ma_pile.push(20)\n",
    "ma_pile.push(30)\n",
    "    \n",
    "print(\"Élément enlevé :\", ma_pile.pop())  # Affiche 30\n",
    "print(\"Élément au sommet :\", ma_pile.peek())  # Affiche 20\n",
    "print(\"La pile est vide ?\", ma_pile.is_empty())  # Affiche False\n",
    "    \n",
    "print(\"Élément enlevé :\", ma_pile.pop())  # Affiche 20\n",
    "print(\"Élément enlevé :\", ma_pile.pop())  # Affiche 10\n",
    "print(\"Élément enlevé :\", ma_pile.pop())  # Affiche \"La pile est vide !\" puis None"
   ]
  }
 ],
 "metadata": {
  "kernelspec": {
   "display_name": "Python 3",
   "language": "python",
   "name": "python3"
  },
  "language_info": {
   "codemirror_mode": {
    "name": "ipython",
    "version": 3
   },
   "file_extension": ".py",
   "mimetype": "text/x-python",
   "name": "python",
   "nbconvert_exporter": "python",
   "pygments_lexer": "ipython3",
   "version": "3.13.2"
  }
 },
 "nbformat": 4,
 "nbformat_minor": 2
}
