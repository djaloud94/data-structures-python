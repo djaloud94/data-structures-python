{
 "cells": [
  {
   "cell_type": "code",
   "execution_count": 12,
   "metadata": {},
   "outputs": [
    {
     "name": "stdout",
     "output_type": "stream",
     "text": [
      "Parcours pré-ordre : ['A', 'B', 'D', 'C', 'E']\n"
     ]
    }
   ],
   "source": [
    "import sys\n",
    "import os\n",
    "\n",
    "sys.path.append(os.path.abspath(\"..\"))\n",
    "from data_structures.tree import Tree\n",
    "\n",
    "\n",
    "# Exemple d'utilisation\n",
    "arbre = Tree(\"A\")\n",
    "b = arbre.add_child(arbre.root, \"B\")\n",
    "c = arbre.add_child(arbre.root, \"C\")\n",
    "arbre.add_child(b, \"D\")\n",
    "arbre.add_child(c, \"E\")\n",
    "print(\"Parcours pré-ordre :\", arbre.pre_order())  # ['A', 'B', 'D', 'C', 'E']"
   ]
  }
 ],
 "metadata": {
  "kernelspec": {
   "display_name": "Python 3",
   "language": "python",
   "name": "python3"
  },
  "language_info": {
   "codemirror_mode": {
    "name": "ipython",
    "version": 3
   },
   "file_extension": ".py",
   "mimetype": "text/x-python",
   "name": "python",
   "nbconvert_exporter": "python",
   "pygments_lexer": "ipython3",
   "version": "3.13.2"
  }
 },
 "nbformat": 4,
 "nbformat_minor": 2
}
